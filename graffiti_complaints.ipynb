{
 "cells": [
  {
   "cell_type": "code",
   "execution_count": null,
   "metadata": {},
   "outputs": [],
   "source": [
    "import pandas as pd\n",
    "import numpy as np\n",
    "import matplotlib.pyplot as plt\n",
    "import timestring\n",
    "#from bokeh.plotting import figure\n",
    "from bokeh.charts import Histogram, Bar, Scatter\n",
    "from bokeh.io import output_notebook, push_notebook, show\n",
    "\n",
    "import seaborn as sns\n",
    "sns.set(style=\"darkgrid\")\n",
    "import folium\n",
    "\n",
    "%matplotlib inline\n",
    "output_notebook()"
   ]
  },
  {
   "cell_type": "code",
   "execution_count": null,
   "metadata": {},
   "outputs": [],
   "source": [
    "df = pd.read_csv('data/Graffiti_in_NYC_since_Oct_2013.csv', header=0, sep=',', quotechar='\"')\n",
    "df.head(5)"
   ]
  },
  {
   "cell_type": "markdown",
   "metadata": {},
   "source": [
    "# Data cleanup"
   ]
  },
  {
   "cell_type": "code",
   "execution_count": null,
   "metadata": {},
   "outputs": [],
   "source": [
    "delete_columns = [\"Intersection Street 1\", \"Intersection Street 2\", \"Address Type\", \"Landmark\", \"Facility Type\",\\\n",
    "                  \"Status\", \"X Coordinate (State Plane)\", \"Y Coordinate (State Plane)\", \"Park Facility Name\",\\\n",
    "                  \"Park Borough\", \"School Name\", \"School Number\", \"School Region\", \"School Code\",\\\n",
    "                  \"School Phone Number\", \n",
    "                  \"School Address\", \"School City\", \"School State\", \"School Zip\", \"School Not Found\",\\\n",
    "                  \"School or Citywide Complaint\", \"Vehicle Type\", \"Taxi Company Borough\", \"Taxi Pick Up Location\",\\\n",
    "                  \"Bridge Highway Name\", \"Bridge Highway Direction\", \"Road Ramp\", \"Bridge Highway Segment\",\\\n",
    "                  \"Garage Lot Name\", \"Ferry Direction\", \"Ferry Terminal Name\",\"Due Date\", \\\n",
    "                  \"Resolution Action Updated Date\",\"Incident Address\",\"Street Name\",\"Cross Street 1\",\"Cross Street 2\",\\\n",
    "                  \"Location Type\", \"Resolution Description\"]\n",
    "\n",
    "df.drop(delete_columns, axis=1, inplace=True)\n",
    "df.shape"
   ]
  },
  {
   "cell_type": "code",
   "execution_count": null,
   "metadata": {},
   "outputs": [],
   "source": [
    "#Drop NAs in several categories and print new null sums\n",
    "df = df.dropna(subset=['Latitude',\"Longitude\",\"Complaint Type\", \"Incident Zip\"], how='any')\n",
    "df.isnull().sum()"
   ]
  },
  {
   "cell_type": "code",
   "execution_count": null,
   "metadata": {},
   "outputs": [],
   "source": [
    "#Change incident_zip column datatype from float to str\n",
    "#to map with GeoJSON\n",
    "df['Incident Zip'] = df['Incident Zip'].astype(int)\n",
    "df['Incident Zip'] = df['Incident Zip'].astype(str)\n",
    "df['Incident Zip'].dtype"
   ]
  },
  {
   "cell_type": "code",
   "execution_count": null,
   "metadata": {},
   "outputs": [],
   "source": [
    "#Cleaning column name syntax\n",
    "df.columns = ['unique_key','created_date', 'closed_date', 'agency', 'agency_name','complaint_type',\\\n",
    "                    'descriptor', 'incident_zip', 'city','community_board', 'borough', 'latitude', 'longitude',\\\n",
    "                    'location']\n",
    "df.head(5)"
   ]
  },
  {
   "cell_type": "markdown",
   "metadata": {},
   "source": [
    "# Data analysis"
   ]
  },
  {
   "cell_type": "code",
   "execution_count": null,
   "metadata": {},
   "outputs": [],
   "source": [
    "#count by borough\n",
    "borough_count = sns.countplot(x=\"borough\", data=df)"
   ]
  },
  {
   "cell_type": "code",
   "execution_count": null,
   "metadata": {},
   "outputs": [],
   "source": [
    "# List of months by number.\n",
    "# timestamps = [timestring.parse(row[2]) for row in df.itertuples()]\n",
    "months = [timestring.parse(row[2])['month'] for row in df.itertuples()]\n",
    "#print(sorted(months))\n",
    "\n",
    "# Define the plot\n",
    "plot = Histogram(months, xlabel='Months', ylabel='Frequency', title='Graffiti Complaints by Month in 2013')\n",
    "handle = show(plot, notebook_handle=True)  # Show the figure."
   ]
  },
  {
   "cell_type": "markdown",
   "metadata": {},
   "source": [
    "# Choropleth map"
   ]
  },
  {
   "cell_type": "code",
   "execution_count": null,
   "metadata": {},
   "outputs": [],
   "source": [
    "#choropleth map\n",
    "zipcode_geo = r'data/ZIPNYC.geojson'\n",
    "\n",
    "zip_data = df[\"incident_zip\"].value_counts()\n",
    "zip_count = pd.DataFrame(zip_data).reset_index()\n",
    "zip_count.columns = [\"postalCode\",\"count\"]\n",
    "\n",
    "\n",
    "#Let Folium determine the scale\n",
    "map = folium.Map(location=[40.7128, -74.0059], zoom_start=11)\n",
    "map.choropleth(geo_path=zipcode_geo, data=zip_count,\n",
    "             columns=[\"postalCode\",\"count\"],\n",
    "             key_on='feature.properties.postalCode',\n",
    "             fill_color='BuPu', fill_opacity=0.7, line_opacity=0.2)\n",
    "\n",
    "map.save('html/graffiti_by_zipcode.html')\n",
    "map"
   ]
  },
  {
   "cell_type": "markdown",
   "metadata": {},
   "source": [
    "# Adding Banksy graffitis to the map"
   ]
  },
  {
   "cell_type": "code",
   "execution_count": null,
   "metadata": {
    "collapsed": true
   },
   "outputs": [],
   "source": [
    "NYC_spots = np.array([[-73.992104,40.715202],\n",
    "[-73.99231,40.743557],\n",
    "[-73.939957,40.708389],\n",
    "[-74.011681,40.678394],\n",
    "[-73.951019,40.735023],\n",
    "[-73.892136,40.672375],\n",
    "[-73.896439,40.746998],\n",
    "[-74.009491,40.718002],\n",
    "[-73.942383,40.702347],\n",
    "[-74.1502,40.579533],\n",
    "[-73.979899,40.783811],\n",
    "[-73.914996,40.818608],\n",
    "[-73.842684,40.759781],\n",
    "[-73.995913,40.767355],\n",
    "[-74.016368,40.651752],\n",
    "[-73.959006,40.728283],\n",
    "[-73.981946,40.579219],\n",
    "[-73.926355,40.829606],\n",
    "[-73.933027,40.737096]])\n",
    "spots_lat = NYC_spots[:,1]\n",
    "spots_lon = NYC_spots[:,0]"
   ]
  },
  {
   "cell_type": "code",
   "execution_count": null,
   "metadata": {},
   "outputs": [],
   "source": [
    "from folium import plugins\n",
    "for i in range(len(NYC_spots)):\n",
    "    folium.Marker(location=[spots_lat[i],spots_lon[i]],popup=\"{0}, {1}\".format(spots_lat[i],spots_lon[i])).add_to(map)\n",
    "    \n",
    "map.save('html/graffiti_by_zipcode_w_Banksy.html')\n",
    "map"
   ]
  },
  {
   "cell_type": "code",
   "execution_count": null,
   "metadata": {
    "collapsed": true
   },
   "outputs": [],
   "source": []
  }
 ],
 "metadata": {
  "kernelspec": {
   "display_name": "Python 2",
   "language": "python",
   "name": "python2"
  },
  "language_info": {
   "codemirror_mode": {
    "name": "ipython",
    "version": 2
   },
   "file_extension": ".py",
   "mimetype": "text/x-python",
   "name": "python",
   "nbconvert_exporter": "python",
   "pygments_lexer": "ipython2",
   "version": "2.7.13"
  }
 },
 "nbformat": 4,
 "nbformat_minor": 2
}
