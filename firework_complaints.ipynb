{
 "cells": [
  {
   "cell_type": "code",
   "execution_count": null,
   "metadata": {
    "collapsed": true
   },
   "outputs": [],
   "source": [
    "df = pd.read_csv('data/311_Fireworks_Complaints.csv',parse_dates=['Created Date', 'Closed Date'],\n",
    "     infer_datetime_format=True)\n",
    "df.head(5)"
   ]
  },
  {
   "cell_type": "markdown",
   "metadata": {},
   "source": [
    "# Data cleanup"
   ]
  },
  {
   "cell_type": "code",
   "execution_count": null,
   "metadata": {
    "collapsed": true
   },
   "outputs": [],
   "source": [
    "df.isnull().sum()"
   ]
  },
  {
   "cell_type": "code",
   "execution_count": null,
   "metadata": {
    "collapsed": true
   },
   "outputs": [],
   "source": [
    "delete_columns = [\"Intersection Street 1\", \"Intersection Street 2\", \"Address Type\", \"Landmark\", \"Facility Type\",\\\n",
    "                  \"Status\", \"X Coordinate (State Plane)\", \"Y Coordinate (State Plane)\", \"Park Facility Name\",\\\n",
    "                  \"Park Borough\", \"School Name\", \"School Number\", \"School Region\", \"School Code\",\\\n",
    "                  \"School Phone Number\", \n",
    "                  \"School Address\", \"School City\", \"School State\", \"School Zip\", \"School Not Found\",\\\n",
    "                  \"School or Citywide Complaint\", \"Vehicle Type\", \"Taxi Company Borough\", \"Taxi Pick Up Location\",\\\n",
    "                  \"Bridge Highway Name\", \"Bridge Highway Direction\", \"Road Ramp\", \"Bridge Highway Segment\",\\\n",
    "                  \"Garage Lot Name\", \"Ferry Direction\", \"Ferry Terminal Name\",\"Due Date\", \\\n",
    "                  \"Resolution Action Updated Date\",\"Incident Address\",\"Street Name\",\"Cross Street 1\",\"Cross Street 2\",\\\n",
    "                  \"Location Type\"]\n",
    "\n",
    "df.drop(delete_columns, axis=1, inplace=True)\n",
    "df.shape"
   ]
  },
  {
   "cell_type": "code",
   "execution_count": null,
   "metadata": {
    "collapsed": true
   },
   "outputs": [],
   "source": [
    "#Drop NAs in several categories and print new null sums\n",
    "df = df.dropna(subset=['Latitude',\"Longitude\",\"Complaint Type\", \"Incident Zip\"], how='any')\n",
    "df.isnull().sum()"
   ]
  },
  {
   "cell_type": "code",
   "execution_count": null,
   "metadata": {
    "collapsed": true
   },
   "outputs": [],
   "source": [
    "#Change incident_zip column datatype from float to str\n",
    "#to map with GeoJSON\n",
    "df['Incident Zip'] = df['Incident Zip'].astype(int)\n",
    "df['Incident Zip'] = df['Incident Zip'].astype(str)\n",
    "df['Incident Zip'].dtype"
   ]
  },
  {
   "cell_type": "code",
   "execution_count": null,
   "metadata": {
    "collapsed": true
   },
   "outputs": [],
   "source": [
    "#Cleaning column name syntax\n",
    "df.columns = ['unique_key','created_date', 'closed_date', 'agency', 'agency_name','complaint_type',\\\n",
    "                    'descriptor', 'incident_zip', 'city','community_board', 'borough', 'latitude', 'longitude',\\\n",
    "                    'location']\n",
    "df.head(5)"
   ]
  },
  {
   "cell_type": "code",
   "execution_count": null,
   "metadata": {
    "collapsed": true
   },
   "outputs": [],
   "source": [
    "df.to_csv('cleaned_fireworks.csv')"
   ]
  },
  {
   "cell_type": "markdown",
   "metadata": {},
   "source": [
    "# Data analysis"
   ]
  },
  {
   "cell_type": "code",
   "execution_count": 2,
   "metadata": {},
   "outputs": [
    {
     "ename": "NameError",
     "evalue": "name 'df' is not defined",
     "output_type": "error",
     "traceback": [
      "\u001b[0;31m---------------------------------------------------------------------------\u001b[0m",
      "\u001b[0;31mNameError\u001b[0m                                 Traceback (most recent call last)",
      "\u001b[0;32m<ipython-input-2-41a20edd5890>\u001b[0m in \u001b[0;36m<module>\u001b[0;34m()\u001b[0m\n\u001b[1;32m      1\u001b[0m \u001b[0;31m#count by borough\u001b[0m\u001b[0;34m\u001b[0m\u001b[0;34m\u001b[0m\u001b[0m\n\u001b[0;32m----> 2\u001b[0;31m \u001b[0magency_count\u001b[0m \u001b[0;34m=\u001b[0m \u001b[0msns\u001b[0m\u001b[0;34m.\u001b[0m\u001b[0mcountplot\u001b[0m\u001b[0;34m(\u001b[0m\u001b[0mx\u001b[0m\u001b[0;34m=\u001b[0m\u001b[0;34m\"borough\"\u001b[0m\u001b[0;34m,\u001b[0m \u001b[0mdata\u001b[0m\u001b[0;34m=\u001b[0m\u001b[0mdf\u001b[0m\u001b[0;34m)\u001b[0m\u001b[0;34m\u001b[0m\u001b[0m\n\u001b[0m",
      "\u001b[0;31mNameError\u001b[0m: name 'df' is not defined"
     ]
    }
   ],
   "source": [
    "#count by borough\n",
    "agency_count = sns.countplot(x=\"borough\", data=df)"
   ]
  },
  {
   "cell_type": "code",
   "execution_count": null,
   "metadata": {
    "collapsed": true
   },
   "outputs": [],
   "source": [
    "# List of months by number.\n",
    "# timestamps = [timestring.parse(row[2]) for row in df.itertuples()]\n",
    "df['month'] = df['created_date'].apply(lambda x: x.month)\n",
    "months = [row.month for row in df.itertuples()]\n",
    "#print(sorted(months))\n",
    "\n",
    "# Define the plot\n",
    "plot = Histogram(months, xlabel='Months', ylabel='Frequency', title='Firework Complaints by Month')\n",
    "handle = show(plot, notebook_handle=True)  # Show the figure."
   ]
  },
  {
   "cell_type": "code",
   "execution_count": null,
   "metadata": {
    "collapsed": true
   },
   "outputs": [],
   "source": [
    "df['hour'] = df['created_date'].apply(lambda x: x.hour)\n",
    "\n",
    "hour_counts = df.groupby(['hour'],sort = True).count()\n",
    "# Plot complaint counts\n",
    "hour_counts.plot(kind = 'area', stacked = False,\n",
    "                  color = 'darkorange', linewidth = 2, legend = False)\n",
    "plt.tick_params(axis = 'both', which = 'major', labelsize = 18)\n",
    "plt.title('Number of complaints / hour of the day\\n')\n",
    "plt.xlabel('')\n",
    "plt.ylabel('Number of complaints')"
   ]
  },
  {
   "cell_type": "markdown",
   "metadata": {},
   "source": [
    "# Choropleth map"
   ]
  },
  {
   "cell_type": "code",
   "execution_count": null,
   "metadata": {
    "collapsed": true
   },
   "outputs": [],
   "source": [
    "#choropleth map\n",
    "zipcode_geo = r'data/ZIPNYC.geojson'\n",
    "\n",
    "zip_data = df[\"incident_zip\"].value_counts()\n",
    "zip_count = pd.DataFrame(zip_data).reset_index()\n",
    "zip_count.columns = [\"postalCode\",\"count\"]\n",
    "\n",
    "\n",
    "#Let Folium determine the scale\n",
    "map = folium.Map(location=[40.7128, -74.0059], zoom_start=10)\n",
    "map.choropleth(geo_path=zipcode_geo, data=zip_count,\n",
    "             columns=[\"postalCode\",\"count\"],\n",
    "             key_on='feature.properties.postalCode',\n",
    "             fill_color='BuPu', fill_opacity=0.7, line_opacity=0.2)\n",
    "\n",
    "map.save('html/fireworks_by_zipcode.html')\n",
    "map"
   ]
  },
  {
   "cell_type": "markdown",
   "metadata": {},
   "source": [
    "# Cluster map"
   ]
  },
  {
   "cell_type": "code",
   "execution_count": null,
   "metadata": {
    "collapsed": true
   },
   "outputs": [],
   "source": [
    "from folium import plugins\n",
    "\n",
    "marker_cluster = folium.MarkerCluster().add_to(map)\n",
    "for name, row in df.iterrows():\n",
    "    folium.Marker([row[\"latitude\"], row[\"longitude\"]], popup=\"{0}\".format(row[\"incident_zip\"])).add_to(marker_cluster)\n",
    "    \n",
    "map.save('html/firework_cluster_map.html')\n",
    "map"
   ]
  }
 ],
 "metadata": {
  "kernelspec": {
   "display_name": "Python 2",
   "language": "python",
   "name": "python2"
  },
  "language_info": {
   "codemirror_mode": {
    "name": "ipython",
    "version": 2
   },
   "file_extension": ".py",
   "mimetype": "text/x-python",
   "name": "python",
   "nbconvert_exporter": "python",
   "pygments_lexer": "ipython2",
   "version": "2.7.13"
  }
 },
 "nbformat": 4,
 "nbformat_minor": 2
}
