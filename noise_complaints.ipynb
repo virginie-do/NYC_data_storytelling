{
 "cells": [
  {
   "cell_type": "code",
   "execution_count": null,
   "metadata": {
    "collapsed": true
   },
   "outputs": [],
   "source": [
    "#Imports\n",
    "%matplotlib inline\n",
    "import pandas as pd\n",
    "import numpy as np\n",
    "import matplotlib.pyplot as plt \n",
    "import folium\n",
    "import timestring\n",
    "import seaborn as sns\n",
    "sns.set(style=\"darkgrid\")"
   ]
  },
  {
   "cell_type": "code",
   "execution_count": null,
   "metadata": {
    "collapsed": true
   },
   "outputs": [],
   "source": [
    "#Option set to display all columns\n",
    "#pd.set_option('display.max_columns', None)"
   ]
  },
  {
   "cell_type": "code",
   "execution_count": null,
   "metadata": {
    "collapsed": true
   },
   "outputs": [],
   "source": [
    "noise_df = pd.read_csv(\"data/Noise_complaints_in_2016.csv\")"
   ]
  },
  {
   "cell_type": "code",
   "execution_count": null,
   "metadata": {
    "collapsed": true
   },
   "outputs": [],
   "source": [
    "noise_df.shape"
   ]
  },
  {
   "cell_type": "code",
   "execution_count": null,
   "metadata": {
    "collapsed": true
   },
   "outputs": [],
   "source": [
    "noise_df.head(5)"
   ]
  },
  {
   "cell_type": "markdown",
   "metadata": {},
   "source": [
    "# Data cleanup"
   ]
  },
  {
   "cell_type": "code",
   "execution_count": null,
   "metadata": {
    "collapsed": true
   },
   "outputs": [],
   "source": [
    "noise_df.isnull().sum()"
   ]
  },
  {
   "cell_type": "code",
   "execution_count": null,
   "metadata": {
    "collapsed": true
   },
   "outputs": [],
   "source": [
    "delete_columns = [\"Intersection Street 1\", \"Intersection Street 2\", \"Address Type\", \"Landmark\", \"Facility Type\",\\\n",
    "                  \"Status\", \"X Coordinate (State Plane)\", \"Y Coordinate (State Plane)\", \"Park Facility Name\",\\\n",
    "                  \"Park Borough\", \"School Name\", \"School Number\", \"School Region\", \"School Code\",\\\n",
    "                  \"School Phone Number\", \n",
    "                  \"School Address\", \"School City\", \"School State\", \"School Zip\", \"School Not Found\",\\\n",
    "                  \"School or Citywide Complaint\", \"Vehicle Type\", \"Taxi Company Borough\", \"Taxi Pick Up Location\",\\\n",
    "                  \"Bridge Highway Name\", \"Bridge Highway Direction\", \"Road Ramp\", \"Bridge Highway Segment\",\\\n",
    "                  \"Garage Lot Name\", \"Ferry Direction\", \"Ferry Terminal Name\",\"Due Date\", \\\n",
    "                  \"Resolution Action Updated Date\",\"Incident Address\",\"Street Name\",\"Cross Street 1\",\"Cross Street 2\",\\\n",
    "                  \"Location Type\",\"Resolution Description\"]\n",
    "\n",
    "noise_df.drop(delete_columns, axis=1, inplace=True)"
   ]
  },
  {
   "cell_type": "code",
   "execution_count": null,
   "metadata": {
    "collapsed": true
   },
   "outputs": [],
   "source": [
    "#New shape after dropping columns\n",
    "noise_df.shape"
   ]
  },
  {
   "cell_type": "code",
   "execution_count": null,
   "metadata": {
    "collapsed": true
   },
   "outputs": [],
   "source": [
    "#New null sum by column after dropping columns\n",
    "noise_df.isnull().sum()"
   ]
  },
  {
   "cell_type": "code",
   "execution_count": null,
   "metadata": {
    "collapsed": true
   },
   "outputs": [],
   "source": [
    "#Drop NAs in several categories and print new null sums\n",
    "noise_df = noise_df.dropna(subset=['Latitude',\"Longitude\",\"Complaint Type\", \"Incident Zip\"], how='any')\n",
    "noise_df.isnull().sum()"
   ]
  },
  {
   "cell_type": "code",
   "execution_count": null,
   "metadata": {
    "collapsed": true
   },
   "outputs": [],
   "source": [
    "#Change incident_zip column datatype from float to str\n",
    "#to map with GeoJSON\n",
    "noise_df['Incident Zip'] = noise_df['Incident Zip'].astype(int)\n",
    "noise_df['Incident Zip'] = noise_df['Incident Zip'].astype(str)\n",
    "noise_df['Incident Zip'].dtype"
   ]
  },
  {
   "cell_type": "code",
   "execution_count": null,
   "metadata": {
    "collapsed": true
   },
   "outputs": [],
   "source": [
    "#Cleaning column name syntax\n",
    "noise_df.columns = ['unique_key','created_date', 'closed_date', 'agency', 'agency_name','complaint_type',\\\n",
    "                    'descriptor', 'incident_zip', 'city','community_board', 'borough', 'latitude', 'longitude',\\\n",
    "                    'location']\n",
    "\n",
    "noise_df.head(5)"
   ]
  },
  {
   "cell_type": "markdown",
   "metadata": {},
   "source": [
    "# Data Analysis"
   ]
  },
  {
   "cell_type": "code",
   "execution_count": null,
   "metadata": {
    "collapsed": true
   },
   "outputs": [],
   "source": [
    "#count by borough\n",
    "borough_count = sns.countplot(x=\"borough\", data=noise_df)"
   ]
  },
  {
   "cell_type": "code",
   "execution_count": null,
   "metadata": {
    "collapsed": true
   },
   "outputs": [],
   "source": [
    "#count by complaint type\n",
    "complaint_count = sns.countplot(y=\"descriptor\", data=noise_df)"
   ]
  },
  {
   "cell_type": "markdown",
   "metadata": {},
   "source": [
    "# Choropleth Map"
   ]
  },
  {
   "cell_type": "code",
   "execution_count": null,
   "metadata": {
    "collapsed": true,
    "scrolled": true
   },
   "outputs": [],
   "source": [
    "#choropleth map\n",
    "zipcode_geo = r'data/ZIPNYC.geojson'\n",
    "\n",
    "zip_data = noise_df[\"incident_zip\"].value_counts()\n",
    "zip_count = pd.DataFrame(zip_data).reset_index()\n",
    "zip_count.columns = [\"postalCode\",\"count\"]\n",
    "\n",
    "\n",
    "#Let Folium determine the scale\n",
    "map = folium.Map(location=[40.7128, -74.0059], zoom_start=11)\n",
    "map.choropleth(geo_path=zipcode_geo, data=zip_count,\n",
    "             columns=[\"postalCode\",\"count\"],\n",
    "             key_on='feature.properties.postalCode',\n",
    "             fill_color='BuPu', fill_opacity=0.7, line_opacity=0.2)\n",
    "\n",
    "map.save('html/noise_by_zipcode.html')\n",
    "map"
   ]
  },
  {
   "cell_type": "markdown",
   "metadata": {},
   "source": [
    "# Loud music / Party map"
   ]
  },
  {
   "cell_type": "code",
   "execution_count": null,
   "metadata": {
    "collapsed": true
   },
   "outputs": [],
   "source": [
    "party_df = noise_df[noise_df['descriptor'].str.contains(\"Party\",na=False)]\n",
    "borough_count = sns.countplot(x=\"borough\", data=party_df)"
   ]
  },
  {
   "cell_type": "code",
   "execution_count": null,
   "metadata": {
    "collapsed": true
   },
   "outputs": [],
   "source": [
    "from bokeh.charts import Histogram, Bar, Scatter\n",
    "from bokeh.io import output_notebook, push_notebook, show\n",
    "output_notebook()\n",
    "\n",
    "# List of months by number.\n",
    "months = [timestring.parse(row[2])['month'] for row in party_df.itertuples()]\n",
    "#print(sorted(months))\n",
    "\n",
    "# Define the plot\n",
    "plot = Histogram(months, xlabel='Months', ylabel='Frequency', title='Loud Music/Party Complaints by Month in 2016')\n",
    "handle = show(plot, notebook_handle=True)  # Show the figure."
   ]
  },
  {
   "cell_type": "code",
   "execution_count": null,
   "metadata": {
    "collapsed": true
   },
   "outputs": [],
   "source": [
    "zip_data2 = party_df[\"incident_zip\"].value_counts()\n",
    "zip_count2 = pd.DataFrame(zip_data2).reset_index()\n",
    "zip_count2.columns = [\"postalCode\",\"count\"]\n",
    "\n",
    "map2 = folium.Map(location=[40.7128, -74.0059], zoom_start=10)\n",
    "map2.choropleth(geo_path=zipcode_geo, data=zip_count2,\n",
    "             columns=[\"postalCode\",\"count\"],\n",
    "             key_on='feature.properties.postalCode',\n",
    "             fill_color='OrRd', fill_opacity=0.7, line_opacity=0.2)\n",
    "\n",
    "map2.save('html/noise_by_zipcode_party.html')\n",
    "map2"
   ]
  },
  {
   "cell_type": "markdown",
   "metadata": {},
   "source": [
    "# Barking dogs"
   ]
  },
  {
   "cell_type": "code",
   "execution_count": null,
   "metadata": {
    "collapsed": true
   },
   "outputs": [],
   "source": [
    "dog_df = noise_df[noise_df['descriptor'].str.contains(\"Dog\",na=False)]\n",
    "borough_count = sns.countplot(x=\"borough\", data=dog_df)"
   ]
  },
  {
   "cell_type": "code",
   "execution_count": null,
   "metadata": {
    "collapsed": true
   },
   "outputs": [],
   "source": [
    "zip_data2 = dog_df[\"incident_zip\"].value_counts()\n",
    "zip_count2 = pd.DataFrame(zip_data2).reset_index()\n",
    "zip_count2.columns = [\"postalCode\",\"count\"]\n",
    "\n",
    "map2 = folium.Map(location=[40.7128, -74.0059], zoom_start=10)\n",
    "map2.choropleth(geo_path=zipcode_geo, data=zip_count2,\n",
    "             columns=[\"postalCode\",\"count\"],\n",
    "             key_on='feature.properties.postalCode',\n",
    "             fill_color='OrRd', fill_opacity=0.7, line_opacity=0.2)\n",
    "\n",
    "map2.save('html/noise_by_zipcode_dog.html')\n",
    "map2"
   ]
  },
  {
   "cell_type": "markdown",
   "metadata": {},
   "source": [
    "# Ice cream trucks"
   ]
  },
  {
   "cell_type": "code",
   "execution_count": null,
   "metadata": {
    "collapsed": true
   },
   "outputs": [],
   "source": [
    "ice_cream_df = noise_df[noise_df['descriptor'].str.contains(\"Ice Cream Truck\",na=False)]\n",
    "zip_data3 = ice_cream_df[\"incident_zip\"].value_counts()\n",
    "zip_count3 = pd.DataFrame(zip_data3).reset_index()\n",
    "zip_count3.columns = [\"postalCode\",\"count\"]\n",
    "\n",
    "map3 = folium.Map(location=[40.7128, -74.0059], zoom_start=10)\n",
    "map3.choropleth(geo_path=zipcode_geo, data=zip_count3,\n",
    "             columns=[\"postalCode\",\"count\"],\n",
    "             key_on='feature.properties.postalCode',\n",
    "             fill_color='OrRd', fill_opacity=0.7, line_opacity=0.2)\n",
    "\n",
    "map3.save('html/noise_by_zipcode_ice_cream.html')\n",
    "map3"
   ]
  },
  {
   "cell_type": "markdown",
   "metadata": {},
   "source": [
    "# Point map"
   ]
  },
  {
   "cell_type": "code",
   "execution_count": null,
   "metadata": {
    "collapsed": true
   },
   "outputs": [],
   "source": [
    "#from folium import plugins\n",
    "\n",
    "#marker_cluster = folium.MarkerCluster().add_to(map)\n",
    "#for name, row in noise_df.iterrows():\n",
    "    ##folium.Marker([row[\"latitude\"], row[\"longitude\"]], popup=\"{0}: {1}\".format(row[\"incident_zip\"], row[\"complaint_type\"])).add_to(marker_cluster)\n",
    "    #folium.Marker([row[\"latitude\"], row[\"longitude\"]]).add_to(marker_cluster)\n",
    "    \n",
    "#map.save('noise_point_map.html')"
   ]
  },
  {
   "cell_type": "code",
   "execution_count": null,
   "metadata": {
    "collapsed": true
   },
   "outputs": [],
   "source": [
    "#map"
   ]
  },
  {
   "cell_type": "code",
   "execution_count": null,
   "metadata": {
    "collapsed": true
   },
   "outputs": [],
   "source": []
  }
 ],
 "metadata": {
  "celltoolbar": "Raw Cell Format",
  "kernelspec": {
   "display_name": "Python 2",
   "language": "python",
   "name": "python2"
  },
  "language_info": {
   "codemirror_mode": {
    "name": "ipython",
    "version": 2
   },
   "file_extension": ".py",
   "mimetype": "text/x-python",
   "name": "python",
   "nbconvert_exporter": "python",
   "pygments_lexer": "ipython2",
   "version": "2.7.13"
  }
 },
 "nbformat": 4,
 "nbformat_minor": 2
}
